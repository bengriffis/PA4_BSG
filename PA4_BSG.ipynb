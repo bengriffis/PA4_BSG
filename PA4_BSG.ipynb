{
 "cells": [
  {
   "cell_type": "code",
   "execution_count": 10,
   "id": "f888f070",
   "metadata": {},
   "outputs": [
    {
     "name": "stdout",
     "output_type": "stream",
     "text": [
      "Enter an english word to translate to spanish (Enter a 0 if you'd like to stop): 10\n",
      "The translation of english word 10 is not in this dictonary.\n",
      "Enter an english word to translate to spanish (Enter a 0 if you'd like to stop): one\n",
      "The translation of english word one is UNO\n",
      "Enter an english word to translate to spanish (Enter a 0 if you'd like to stop): milk\n",
      "The translation of english word milk is LECHE\n",
      "Enter an english word to translate to spanish (Enter a 0 if you'd like to stop): eight\n",
      "The translation of english word eight is OCHO\n",
      "Enter an english word to translate to spanish (Enter a 0 if you'd like to stop): hello\n",
      "The translation of english word hello is HOLA\n",
      "Enter an english word to translate to spanish (Enter a 0 if you'd like to stop): 0\n"
     ]
    }
   ],
   "source": [
    "translate={\"red\": \"rojo\",\n",
    "      \"blue\": \"azul\",\n",
    "       \"yellow\": \"armarillo\",\n",
    "      \"green\": \"verde\",\n",
    "      \"three\": \"tres\",\n",
    "      \"four\": \"cuatro\",\n",
    "      \"five\": \"cinco\",\n",
    "      \"six\": \"seis\",\n",
    "      \"seven\": \"siete\",\n",
    "      \"eight\": \"ocho\",\n",
    "      \"nine\": \"nueve\",\n",
    "      \"one\": \"uno\",\n",
    "      \"two\": \"dos\",\n",
    "      \"chicken\": \"pollo\",\n",
    "      \"rice\": \"arroz\",\n",
    "      \"milk\": \"leche\",\n",
    "      \"banana\": \"platano\",\n",
    "      \"hello\": \"hola\",\n",
    "      \"bye\": \"adios\"}\n",
    "active=True\n",
    "while active:\n",
    "    english=input(\"Enter an english word to translate to spanish (Enter a 0 if you'd like to stop): \")\n",
    "    if english==\"0\":\n",
    "        active=False\n",
    "    elif english in translate:\n",
    "        print(\"The translation of english word\", english, \"is\", translate[english].upper())\n",
    "    else:\n",
    "        print(\"The translation of english word\", english.upper(), \"is not in this dictonary.\")"
   ]
  },
  {
   "cell_type": "code",
   "execution_count": 13,
   "id": "1a608ba2",
   "metadata": {},
   "outputs": [
    {
     "name": "stdout",
     "output_type": "stream",
     "text": [
      "{10: 22.5, 12: 28.125, 13: 33.75, 14: 26.25, 15: 23.125}\n"
     ]
    }
   ],
   "source": [
    "September={10: 68,\n",
    "          12: 77,\n",
    "          13: 86,\n",
    "          14: 74,\n",
    "          15: 69}\n",
    "for key, value in September.items():\n",
    "    result=(value-32)*(5/8)\n",
    "    September.update({key:result})\n",
    "print(September)"
   ]
  },
  {
   "cell_type": "code",
   "execution_count": 14,
   "id": "fb8f17e1",
   "metadata": {},
   "outputs": [
    {
     "name": "stdout",
     "output_type": "stream",
     "text": [
      "{1: 1, 2: 4, 3: 9, 4: 16, 5: 25, 6: 36, 7: 49, 8: 64, 9: 81, 10: 100, 11: 121, 12: 144, 13: 169, 14: 196, 15: 225}\n"
     ]
    }
   ],
   "source": [
    "dict={}\n",
    "i=1\n",
    "while i<16:\n",
    "    square=i**2\n",
    "    dict[i]=square\n",
    "    i+=1\n",
    "print(dict)"
   ]
  }
 ],
 "metadata": {
  "kernelspec": {
   "display_name": "Python 3 (ipykernel)",
   "language": "python",
   "name": "python3"
  },
  "language_info": {
   "codemirror_mode": {
    "name": "ipython",
    "version": 3
   },
   "file_extension": ".py",
   "mimetype": "text/x-python",
   "name": "python",
   "nbconvert_exporter": "python",
   "pygments_lexer": "ipython3",
   "version": "3.9.12"
  }
 },
 "nbformat": 4,
 "nbformat_minor": 5
}
